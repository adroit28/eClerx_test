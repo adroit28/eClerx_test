{
  "nbformat": 4,
  "nbformat_minor": 0,
  "metadata": {
    "colab": {
      "name": "sentiment_analysis_eClerx2.ipynb",
      "provenance": []
    },
    "kernelspec": {
      "name": "python3",
      "display_name": "Python 3"
    }
  },
  "cells": [
    {
      "cell_type": "code",
      "metadata": {
        "id": "pDY5FQDr4ATb",
        "colab_type": "code",
        "colab": {
          "base_uri": "https://localhost:8080/",
          "height": 122
        },
        "outputId": "a0d09ef1-f521-430e-fe79-1709ed1bf8cc"
      },
      "source": [
        "\"\"\"\n",
        "Mounting to Drive\n",
        "\"\"\"\n",
        "\n",
        "from google.colab import drive\n",
        "drive.mount('/content/drive')"
      ],
      "execution_count": 1,
      "outputs": [
        {
          "output_type": "stream",
          "text": [
            "Go to this URL in a browser: https://accounts.google.com/o/oauth2/auth?client_id=947318989803-6bn6qk8qdgf4n4g3pfee6491hc0brc4i.apps.googleusercontent.com&redirect_uri=urn%3aietf%3awg%3aoauth%3a2.0%3aoob&response_type=code&scope=email%20https%3a%2f%2fwww.googleapis.com%2fauth%2fdocs.test%20https%3a%2f%2fwww.googleapis.com%2fauth%2fdrive%20https%3a%2f%2fwww.googleapis.com%2fauth%2fdrive.photos.readonly%20https%3a%2f%2fwww.googleapis.com%2fauth%2fpeopleapi.readonly\n",
            "\n",
            "Enter your authorization code:\n",
            "··········\n",
            "Mounted at /content/drive\n"
          ],
          "name": "stdout"
        }
      ]
    },
    {
      "cell_type": "code",
      "metadata": {
        "id": "jWVesde9h4t3",
        "colab_type": "code",
        "colab": {
          "base_uri": "https://localhost:8080/",
          "height": 51
        },
        "outputId": "67388ec6-e25a-4973-dd37-6e4eac81c0e2"
      },
      "source": [
        "import sys, unicodedata\n",
        "#!{sys.executable} -m spacy download en\n",
        "import re, numpy as np, pandas as pd\n",
        "from pprint import pprint\n",
        "\n",
        "# Gensim\n",
        "import gensim, spacy, logging, warnings\n",
        "import gensim.corpora as corpora\n",
        "from gensim.utils import lemmatize, simple_preprocess\n",
        "from gensim.models import CoherenceModel\n",
        "import matplotlib.pyplot as plt\n",
        "\n",
        "# NLTK Stop words\n",
        "import nltk\n",
        "nltk.download('stopwords')\n",
        "\n",
        "from nltk.corpus import stopwords\n",
        "stop_words = stopwords.words('english')\n",
        "stop_words.extend(['from', 'subject', 're', 'edu', 'use', 'not', 'would', 'say', 'could', '_', 'be', 'know', 'good', 'go', 'get', 'do', \n",
        "                   'done', 'try', 'many', 'some', 'nice', 'thank', 'think', 'see', 'rather', 'easy', 'easily', 'lot', 'lack', 'make', \n",
        "                   'want', 'seem', 'run', 'need', 'even', 'right', 'line', 'even', 'also', 'may', 'take', 'come'])\n",
        "\n",
        "%matplotlib inline\n",
        "warnings.filterwarnings(\"ignore\",category=DeprecationWarning)\n",
        "logging.basicConfig(format='%(asctime)s : %(levelname)s : %(message)s', level=logging.ERROR)"
      ],
      "execution_count": 2,
      "outputs": [
        {
          "output_type": "stream",
          "text": [
            "[nltk_data] Downloading package stopwords to /root/nltk_data...\n",
            "[nltk_data]   Unzipping corpora/stopwords.zip.\n"
          ],
          "name": "stdout"
        }
      ]
    },
    {
      "cell_type": "code",
      "metadata": {
        "id": "hHGo0Yu2gdoA",
        "colab_type": "code",
        "colab": {
          "base_uri": "https://localhost:8080/",
          "height": 34
        },
        "outputId": "2155bcc3-e0f0-4b28-c7cc-02b733856b1c"
      },
      "source": [
        "\"\"\"\n",
        "ML Libraries\n",
        "\"\"\"\n",
        "\n",
        "from sklearn.feature_extraction.text import CountVectorizer\n",
        "from sklearn.feature_extraction.text import TfidfVectorizer\n",
        "from sklearn.linear_model import LogisticRegression\n",
        "from sklearn.metrics import accuracy_score\n",
        "from keras.preprocessing.text import Tokenizer\n",
        "from keras.preprocessing.sequence import pad_sequences\n",
        "from keras.models import Sequential\n",
        "from keras.layers import Dense, Embedding, LSTM, SpatialDropout1D, TimeDistributed\n",
        "from sklearn.model_selection import train_test_split\n",
        "from keras.utils.np_utils import to_categorical\n",
        "from keras.callbacks import EarlyStopping"
      ],
      "execution_count": 3,
      "outputs": [
        {
          "output_type": "stream",
          "text": [
            "Using TensorFlow backend.\n"
          ],
          "name": "stderr"
        }
      ]
    },
    {
      "cell_type": "code",
      "metadata": {
        "id": "gmoIc_t0CjDX",
        "colab_type": "code",
        "colab": {}
      },
      "source": [
        "\"\"\"\n",
        "Contractions Dictionary\n",
        "\"\"\"\n",
        "\n",
        "def load_dict_contractions():\n",
        "    \n",
        "    return {\n",
        "        \"ain't\":\"is not\",\n",
        "        \"amn't\":\"am not\",\n",
        "        \"aren't\":\"are not\",\n",
        "        \"can't\":\"cannot\",\n",
        "        \"'cause\":\"because\",\n",
        "        \"couldn't\":\"could not\",\n",
        "        \"couldn't've\":\"could not have\",\n",
        "        \"could've\":\"could have\",\n",
        "        \"daren't\":\"dare not\",\n",
        "        \"daresn't\":\"dare not\",\n",
        "        \"dasn't\":\"dare not\",\n",
        "        \"didn't\":\"did not\",\n",
        "        \"doesn't\":\"does not\",\n",
        "        \"don't\":\"do not\",\n",
        "        \"e'er\":\"ever\",\n",
        "        \"em\":\"them\",\n",
        "        \"everyone's\":\"everyone is\",\n",
        "        \"finna\":\"fixing to\",\n",
        "        \"gimme\":\"give me\",\n",
        "        \"gonna\":\"going to\",\n",
        "        \"gon't\":\"go not\",\n",
        "        \"gotta\":\"got to\",\n",
        "        \"hadn't\":\"had not\",\n",
        "        \"hasn't\":\"has not\",\n",
        "        \"haven't\":\"have not\",\n",
        "        \"he'd\":\"he would\",\n",
        "        \"he'll\":\"he will\",\n",
        "        \"he's\":\"he is\",\n",
        "        \"he've\":\"he have\",\n",
        "        \"how'd\":\"how would\",\n",
        "        \"how'll\":\"how will\",\n",
        "        \"how're\":\"how are\",\n",
        "        \"how's\":\"how is\",\n",
        "        \"I'd\":\"I would\",\n",
        "        \"I'll\":\"I will\",\n",
        "        \"I'm\":\"I am\",\n",
        "        \"I'm'a\":\"I am about to\",\n",
        "        \"I'm'o\":\"I am going to\",\n",
        "        \"isn't\":\"is not\",\n",
        "        \"it'd\":\"it would\",\n",
        "        \"it'll\":\"it will\",\n",
        "        \"it's\":\"it is\",\n",
        "        \"I've\":\"I have\",\n",
        "        \"kinda\":\"kind of\",\n",
        "        \"let's\":\"let us\",\n",
        "        \"mayn't\":\"may not\",\n",
        "        \"may've\":\"may have\",\n",
        "        \"mightn't\":\"might not\",\n",
        "        \"might've\":\"might have\",\n",
        "        \"mustn't\":\"must not\",\n",
        "        \"mustn't've\":\"must not have\",\n",
        "        \"must've\":\"must have\",\n",
        "        \"needn't\":\"need not\",\n",
        "        \"ne'er\":\"never\",\n",
        "        \"o'\":\"of\",\n",
        "        \"o'er\":\"over\",\n",
        "        \"ol'\":\"old\",\n",
        "        \"oughtn't\":\"ought not\",\n",
        "        \"shalln't\":\"shall not\",\n",
        "        \"shan't\":\"shall not\",\n",
        "        \"she'd\":\"she would\",\n",
        "        \"she'll\":\"she will\",\n",
        "        \"she's\":\"she is\",\n",
        "        \"shouldn't\":\"should not\",\n",
        "        \"shouldn't've\":\"should not have\",\n",
        "        \"should've\":\"should have\",\n",
        "        \"somebody's\":\"somebody is\",\n",
        "        \"someone's\":\"someone is\",\n",
        "        \"something's\":\"something is\",\n",
        "        \"that'd\":\"that would\",\n",
        "        \"that'll\":\"that will\",\n",
        "        \"that're\":\"that are\",\n",
        "        \"that's\":\"that is\",\n",
        "        \"there'd\":\"there would\",\n",
        "        \"there'll\":\"there will\",\n",
        "        \"there're\":\"there are\",\n",
        "        \"there's\":\"there is\",\n",
        "        \"these're\":\"these are\",\n",
        "        \"they'd\":\"they would\",\n",
        "        \"they'll\":\"they will\",\n",
        "        \"they're\":\"they are\",\n",
        "        \"they've\":\"they have\",\n",
        "        \"this's\":\"this is\",\n",
        "        \"those're\":\"those are\",\n",
        "        \"'tis\":\"it is\",\n",
        "        \"'twas\":\"it was\",\n",
        "        \"wanna\":\"want to\",\n",
        "        \"wasn't\":\"was not\",\n",
        "        \"we'd\":\"we would\",\n",
        "        \"we'd've\":\"we would have\",\n",
        "        \"we'll\":\"we will\",\n",
        "        \"we're\":\"we are\",\n",
        "        \"weren't\":\"were not\",\n",
        "        \"we've\":\"we have\",\n",
        "        \"what'd\":\"what did\",\n",
        "        \"what'll\":\"what will\",\n",
        "        \"what're\":\"what are\",\n",
        "        \"what's\":\"what is\",\n",
        "        \"what've\":\"what have\",\n",
        "        \"when's\":\"when is\",\n",
        "        \"where'd\":\"where did\",\n",
        "        \"where're\":\"where are\",\n",
        "        \"where's\":\"where is\",\n",
        "        \"where've\":\"where have\",\n",
        "        \"which's\":\"which is\",\n",
        "        \"who'd\":\"who would\",\n",
        "        \"who'd've\":\"who would have\",\n",
        "        \"who'll\":\"who will\",\n",
        "        \"who're\":\"who are\",\n",
        "        \"who's\":\"who is\",\n",
        "        \"who've\":\"who have\",\n",
        "        \"why'd\":\"why did\",\n",
        "        \"why're\":\"why are\",\n",
        "        \"why's\":\"why is\",\n",
        "        \"won't\":\"will not\",\n",
        "        \"wouldn't\":\"would not\",\n",
        "        \"would've\":\"would have\",\n",
        "        \"y'all\":\"you all\",\n",
        "        \"you'd\":\"you would\",\n",
        "        \"you'll\":\"you will\",\n",
        "        \"you're\":\"you are\",\n",
        "        \"you've\":\"you have\",\n",
        "        \"Whatcha\":\"What are you\",\n",
        "        \"luv\":\"love\",\n",
        "        \"sux\":\"sucks\"\n",
        "        }"
      ],
      "execution_count": 4,
      "outputs": []
    },
    {
      "cell_type": "code",
      "metadata": {
        "id": "ZXd_zF8ahOc6",
        "colab_type": "code",
        "colab": {}
      },
      "source": [
        "\"\"\"\n",
        "Reading Data\n",
        "\"\"\"\n",
        "\n",
        "raw_dataset = pd.read_csv('drive/My Drive/twcs.csv')"
      ],
      "execution_count": 5,
      "outputs": []
    },
    {
      "cell_type": "code",
      "metadata": {
        "id": "DnNHNsyrikzr",
        "colab_type": "code",
        "colab": {
          "base_uri": "https://localhost:8080/",
          "height": 204
        },
        "outputId": "ca10de7e-f6a0-4069-ddd0-d900a3d64027"
      },
      "source": [
        "\"\"\"\n",
        "Data Set\n",
        "\"\"\"\n",
        "\n",
        "raw_dataset.head()"
      ],
      "execution_count": 6,
      "outputs": [
        {
          "output_type": "execute_result",
          "data": {
            "text/html": [
              "<div>\n",
              "<style scoped>\n",
              "    .dataframe tbody tr th:only-of-type {\n",
              "        vertical-align: middle;\n",
              "    }\n",
              "\n",
              "    .dataframe tbody tr th {\n",
              "        vertical-align: top;\n",
              "    }\n",
              "\n",
              "    .dataframe thead th {\n",
              "        text-align: right;\n",
              "    }\n",
              "</style>\n",
              "<table border=\"1\" class=\"dataframe\">\n",
              "  <thead>\n",
              "    <tr style=\"text-align: right;\">\n",
              "      <th></th>\n",
              "      <th>tweet_id</th>\n",
              "      <th>author_id</th>\n",
              "      <th>inbound</th>\n",
              "      <th>created_at</th>\n",
              "      <th>text</th>\n",
              "      <th>response_tweet_id</th>\n",
              "      <th>in_response_to_tweet_id</th>\n",
              "    </tr>\n",
              "  </thead>\n",
              "  <tbody>\n",
              "    <tr>\n",
              "      <th>0</th>\n",
              "      <td>1</td>\n",
              "      <td>sprintcare</td>\n",
              "      <td>False</td>\n",
              "      <td>Tue Oct 31 22:10:47 +0000 2017</td>\n",
              "      <td>@115712 I understand. I would like to assist y...</td>\n",
              "      <td>2</td>\n",
              "      <td>3.0</td>\n",
              "    </tr>\n",
              "    <tr>\n",
              "      <th>1</th>\n",
              "      <td>2</td>\n",
              "      <td>115712</td>\n",
              "      <td>True</td>\n",
              "      <td>Tue Oct 31 22:11:45 +0000 2017</td>\n",
              "      <td>@sprintcare and how do you propose we do that</td>\n",
              "      <td>NaN</td>\n",
              "      <td>1.0</td>\n",
              "    </tr>\n",
              "    <tr>\n",
              "      <th>2</th>\n",
              "      <td>3</td>\n",
              "      <td>115712</td>\n",
              "      <td>True</td>\n",
              "      <td>Tue Oct 31 22:08:27 +0000 2017</td>\n",
              "      <td>@sprintcare I have sent several private messag...</td>\n",
              "      <td>1</td>\n",
              "      <td>4.0</td>\n",
              "    </tr>\n",
              "    <tr>\n",
              "      <th>3</th>\n",
              "      <td>4</td>\n",
              "      <td>sprintcare</td>\n",
              "      <td>False</td>\n",
              "      <td>Tue Oct 31 21:54:49 +0000 2017</td>\n",
              "      <td>@115712 Please send us a Private Message so th...</td>\n",
              "      <td>3</td>\n",
              "      <td>5.0</td>\n",
              "    </tr>\n",
              "    <tr>\n",
              "      <th>4</th>\n",
              "      <td>5</td>\n",
              "      <td>115712</td>\n",
              "      <td>True</td>\n",
              "      <td>Tue Oct 31 21:49:35 +0000 2017</td>\n",
              "      <td>@sprintcare I did.</td>\n",
              "      <td>4</td>\n",
              "      <td>6.0</td>\n",
              "    </tr>\n",
              "  </tbody>\n",
              "</table>\n",
              "</div>"
            ],
            "text/plain": [
              "   tweet_id   author_id  ...  response_tweet_id in_response_to_tweet_id\n",
              "0         1  sprintcare  ...                  2                     3.0\n",
              "1         2      115712  ...                NaN                     1.0\n",
              "2         3      115712  ...                  1                     4.0\n",
              "3         4  sprintcare  ...                  3                     5.0\n",
              "4         5      115712  ...                  4                     6.0\n",
              "\n",
              "[5 rows x 7 columns]"
            ]
          },
          "metadata": {
            "tags": []
          },
          "execution_count": 6
        }
      ]
    },
    {
      "cell_type": "code",
      "metadata": {
        "id": "8uHx1vSpim40",
        "colab_type": "code",
        "colab": {}
      },
      "source": [
        "\"\"\"\n",
        "Inbound and Outbound\n",
        "\"\"\"\n",
        "\n",
        "inbound_data = list(raw_dataset[raw_dataset['inbound'] == True]['text'])\n",
        "outbound_data = list(raw_dataset[raw_dataset['inbound'] == False]['text'])"
      ],
      "execution_count": 7,
      "outputs": []
    },
    {
      "cell_type": "code",
      "metadata": {
        "id": "Ik_kKesgipTq",
        "colab_type": "code",
        "colab": {
          "base_uri": "https://localhost:8080/",
          "height": 85
        },
        "outputId": "2abec324-332a-492f-909a-ccc652fcaeac"
      },
      "source": [
        "\"\"\"\n",
        "Raw Metrics\n",
        "\"\"\"\n",
        "\n",
        "print ('Shape of Data\" {}'.format(raw_dataset.shape))\n",
        "\n",
        "print ('Inbound Data Length: {}'.format(len(inbound_data)))\n",
        "print ('Outbound Data Length: {}'.format(len(outbound_data)))\n",
        "\n",
        "authors = set(raw_dataset['author_id'])\n",
        "print (\"Distinct Authors: {}\".format(len(authors)))"
      ],
      "execution_count": 8,
      "outputs": [
        {
          "output_type": "stream",
          "text": [
            "Shape of Data\" (2811774, 7)\n",
            "Inbound Data Length: 1537843\n",
            "Outbound Data Length: 1273931\n",
            "Distinct Authors: 702777\n"
          ],
          "name": "stdout"
        }
      ]
    },
    {
      "cell_type": "code",
      "metadata": {
        "id": "yjVSSWCYjf16",
        "colab_type": "code",
        "colab": {}
      },
      "source": [
        "\"\"\"\n",
        "Sample Data\n",
        "\"\"\"\n",
        "\n",
        "tweets = inbound_data\n",
        "\n",
        "sample_data = False\n",
        "if sample_data:\n",
        "  tweets = tweets[0:100000]"
      ],
      "execution_count": 9,
      "outputs": []
    },
    {
      "cell_type": "code",
      "metadata": {
        "id": "P0Mb-0PSismr",
        "colab_type": "code",
        "colab": {}
      },
      "source": [
        "def sent_to_words(sentences):\n",
        "    for sent in sentences:\n",
        "        sent = re.sub('\\S*@\\S*\\s?', '', sent)  # remove emails\n",
        "        sent = re.sub('\\s+', ' ', sent)  # remove newline chars\n",
        "        sent = re.sub(\"\\'\", \"\", sent)  # remove single quotes\n",
        "        sent = re.sub(r\"http\\S+\", \"\", sent) # remove urls\n",
        "        sent = re.sub(r\"@\\S+\", \"\", sent) # remove references\n",
        "        sent = gensim.utils.simple_preprocess(str(sent), deacc=True) \n",
        "        yield(sent)  \n",
        "\n",
        "data_words = list(sent_to_words(tweets))"
      ],
      "execution_count": 10,
      "outputs": []
    },
    {
      "cell_type": "code",
      "metadata": {
        "id": "X8721xcBOgrc",
        "colab_type": "code",
        "colab": {
          "base_uri": "https://localhost:8080/",
          "height": 51
        },
        "outputId": "b54d652f-cc9a-4b4e-886c-2235fe74fc32"
      },
      "source": [
        "# Build the bigram and trigram models\n",
        "\n",
        "def create_multigram_model(data_words):\n",
        "\n",
        "  bigram = gensim.models.Phrases(data_words, min_count=5, threshold=100) # higher threshold fewer phrases.\n",
        "  trigram = gensim.models.Phrases(bigram[data_words], threshold=100)  \n",
        "  bigram_mod = gensim.models.phrases.Phraser(bigram)\n",
        "  trigram_mod = gensim.models.phrases.Phraser(trigram)\n",
        "\n",
        "  def process_words(texts, stop_words=stop_words, allowed_postags=['NOUN', 'ADJ', 'VERB', 'ADV']):\n",
        "      \"\"\"Remove Stopwords, Form Bigrams, Trigrams and Lemmatization\"\"\"\n",
        "      texts = [[word for word in simple_preprocess(str(doc)) if word not in stop_words] for doc in texts]\n",
        "      texts = [bigram_mod[doc] for doc in texts]\n",
        "      texts = [trigram_mod[bigram_mod[doc]] for doc in texts]\n",
        "      texts_out = []\n",
        "      nlp = spacy.load('en', disable=['parser', 'ner'])\n",
        "      for sent in texts:\n",
        "          doc = nlp(\" \".join(sent)) \n",
        "          texts_out.append([token.lemma_ for token in doc if token.pos_ in allowed_postags])\n",
        "      # remove stopwords once more after lemmatization\n",
        "      texts_out = [[word for word in simple_preprocess(str(doc)) if word not in stop_words] for doc in texts_out]    \n",
        "      return texts_out\n",
        "\n",
        "  data_ready = process_words(data_words)  # processed Text Data!\n",
        "\n",
        "  return data_ready\n",
        "\n",
        "data_words_pred = create_multigram_model(data_words)"
      ],
      "execution_count": 13,
      "outputs": [
        {
          "output_type": "stream",
          "text": [
            "/usr/local/lib/python3.6/dist-packages/gensim/models/phrases.py:598: UserWarning: For a faster implementation, use the gensim.models.phrases.Phraser class\n",
            "  warnings.warn(\"For a faster implementation, use the gensim.models.phrases.Phraser class\")\n"
          ],
          "name": "stderr"
        }
      ]
    },
    {
      "cell_type": "code",
      "metadata": {
        "id": "sWYMAuzZO_IF",
        "colab_type": "code",
        "colab": {}
      },
      "source": [
        "\"\"\"\n",
        "Additional Cleaning Steps\n",
        "\"\"\"\n",
        "\n",
        "def remove_punctuation(words):\n",
        "    \"\"\"Remove punctuation from list of tokenized words\"\"\"\n",
        "    new_words = []\n",
        "    for word in words:\n",
        "        new_word = re.sub(r'[^\\w\\s]', '', word)\n",
        "        if new_word != '':\n",
        "            new_words.append(new_word)\n",
        "    return new_words\n",
        "\n",
        "def remove_non_ascii(words):\n",
        "    \"\"\"Remove non-ASCII characters from list of tokenized words\"\"\"\n",
        "    new_words = []\n",
        "    for word in words:\n",
        "        new_word = unicodedata.normalize('NFKD', word).encode('ascii', 'ignore').decode('utf-8', 'ignore')\n",
        "        new_words.append(new_word)\n",
        "    return new_words\n",
        "\n",
        "def remove_small_words(words):\n",
        "    \"\"\"Remove words with length less than 4 alphabets\"\"\"\n",
        "    new_words = []\n",
        "    for word in words:\n",
        "      if len(word) < 3:\n",
        "        pass\n",
        "      else:\n",
        "        new_words.append(word)\n",
        "    return new_words\n",
        "\n",
        "contractions_dict = load_dict_contractions()\n",
        "def remove_contractions(words):\n",
        "    \"\"\"Remove contractions\"\"\"\n",
        "    new_words = []\n",
        "    for word in words:\n",
        "        word = word.replace(\"’\",\"'\")\n",
        "        if word in contractions_dict.keys():\n",
        "            word = contractions_dict[word]\n",
        "        else:\n",
        "            pass\n",
        "        new_words.append(word)\n",
        "    return new_words     \n",
        "\n",
        "def to_lowercase(words):\n",
        "    \"\"\"Convert all characters to lowercase from list of tokenized words\"\"\"\n",
        "    new_words = []\n",
        "    for word in words:\n",
        "        new_word = word.lower()\n",
        "        new_words.append(new_word)\n",
        "    return new_words\n"
      ],
      "execution_count": 16,
      "outputs": []
    },
    {
      "cell_type": "code",
      "metadata": {
        "id": "4MUywp1aO_7y",
        "colab_type": "code",
        "colab": {}
      },
      "source": [
        "def normalize_text(tokenized_text):\n",
        "\n",
        "  final_doc = [] \n",
        "  def normalizing(text):\n",
        "      tokenized_text = remove_small_words(text)\n",
        "      tokenized_text = remove_non_ascii(tokenized_text)\n",
        "      tokenized_text = to_lowercase(tokenized_text)\n",
        "      tokenized_text = remove_punctuation(tokenized_text)\n",
        "      tokenized_text = remove_contractions(tokenized_text)\n",
        "\n",
        "      return tokenized_text\n",
        "      \n",
        "  for text in tokenized_text:\n",
        "      normalized_text = normalizing(text)\n",
        "      final_doc.append(normalized_text)\n",
        "\n",
        "  return final_doc    \n",
        "\n",
        "final_doc_pred = normalize_text(data_words_pred)  "
      ],
      "execution_count": 17,
      "outputs": []
    },
    {
      "cell_type": "code",
      "metadata": {
        "id": "FYEDL8kcRS61",
        "colab_type": "code",
        "colab": {}
      },
      "source": [
        "\"\"\"\n",
        "Clear Ram\n",
        "\"\"\"\n",
        "\n",
        "del (data_words)\n",
        "del (data_words_pred)"
      ],
      "execution_count": 18,
      "outputs": []
    },
    {
      "cell_type": "markdown",
      "metadata": {
        "id": "F42rLuDEUIsp",
        "colab_type": "text"
      },
      "source": [
        "Training Data - Labelled Twitter Data"
      ]
    },
    {
      "cell_type": "code",
      "metadata": {
        "id": "Tvv9p2-ul3Dy",
        "colab_type": "code",
        "colab": {}
      },
      "source": [
        "\"\"\"\n",
        "Processing Labelled Data\n",
        "\"\"\"\n",
        "\n",
        "labelled_tweets = pd.read_csv('drive/My Drive/labeled_tweet.csv')"
      ],
      "execution_count": 19,
      "outputs": []
    },
    {
      "cell_type": "code",
      "metadata": {
        "id": "FG5HWfwxO3xv",
        "colab_type": "code",
        "colab": {
          "base_uri": "https://localhost:8080/",
          "height": 51
        },
        "outputId": "9c0aba7b-1671-4fab-a0f3-2fdec102c60a"
      },
      "source": [
        "\"\"\"\n",
        "Positive and Negative Tweets\n",
        "\"\"\"\n",
        "\n",
        "sample = True\n",
        "\n",
        "pos_tweet = list(labelled_tweets[labelled_tweets['sentiment'] == 4]['tweet'])\n",
        "neg_tweet = list(labelled_tweets[labelled_tweets['sentiment'] == 0]['tweet'])\n",
        "\n",
        "no_of_samples = 100000\n",
        "if sample:\n",
        "  pos_tweet = pos_tweet[0:no_of_samples]\n",
        "  neg_tweet = neg_tweet[0:no_of_samples]\n",
        "\n",
        "  labels = list(labelled_tweets[labelled_tweets['sentiment'] == 4]['sentiment'])[0:no_of_samples] + list(labelled_tweets[labelled_tweets['sentiment'] == 0]['sentiment'])[0:no_of_samples]\n",
        "\n",
        "print ('Number of Positive Tweets: {}'.format(len(pos_tweet)))\n",
        "print ('Number of Negative Tweets: {}'.format(len(neg_tweet)))  "
      ],
      "execution_count": 31,
      "outputs": [
        {
          "output_type": "stream",
          "text": [
            "Number of Positive Tweets: 100000\n",
            "Number of Negative Tweets: 100000\n"
          ],
          "name": "stdout"
        }
      ]
    },
    {
      "cell_type": "code",
      "metadata": {
        "id": "tajcPFUvQHRF",
        "colab_type": "code",
        "colab": {
          "base_uri": "https://localhost:8080/",
          "height": 51
        },
        "outputId": "cdb02acc-acbe-41a7-c6b2-b18c1eab647b"
      },
      "source": [
        "\"\"\"\n",
        "Calling Functions\n",
        "\"\"\"\n",
        "\n",
        "all_labelled_tweets = pos_tweet + neg_tweet\n",
        "\n",
        "# Final Data (Cleaned Version)\n",
        "tokenized_data = list(sent_to_words(all_labelled_tweets))\n",
        "data_words_train = create_multigram_model(tokenized_data)\n",
        "final_doc_train = normalize_text(data_words_train)  "
      ],
      "execution_count": 32,
      "outputs": [
        {
          "output_type": "stream",
          "text": [
            "/usr/local/lib/python3.6/dist-packages/gensim/models/phrases.py:598: UserWarning: For a faster implementation, use the gensim.models.phrases.Phraser class\n",
            "  warnings.warn(\"For a faster implementation, use the gensim.models.phrases.Phraser class\")\n"
          ],
          "name": "stderr"
        }
      ]
    },
    {
      "cell_type": "code",
      "metadata": {
        "id": "FFUpIxbzvaO1",
        "colab_type": "code",
        "colab": {}
      },
      "source": [
        "copy_of_data = final_doc_train.copy()\n",
        "Y = []\n",
        "\n",
        "final_doc_train = []\n",
        "for index, text in enumerate(copy_of_data):\n",
        "\n",
        "  if len(text)!=0:\n",
        "    final_doc_train.append(text)\n",
        "    Y.append(index)\n",
        "  else:\n",
        "    pass      "
      ],
      "execution_count": 46,
      "outputs": []
    },
    {
      "cell_type": "markdown",
      "metadata": {
        "id": "KYcHi6zobocR",
        "colab_type": "text"
      },
      "source": [
        "Deep Learning Approach - LSTM"
      ]
    },
    {
      "cell_type": "code",
      "metadata": {
        "id": "ffcJFLHkk87s",
        "colab_type": "code",
        "colab": {
          "base_uri": "https://localhost:8080/",
          "height": 34
        },
        "outputId": "90721823-f1fd-4849-ea5e-9d83ed462e0f"
      },
      "source": [
        "\"\"\"\n",
        "Maximum Length\n",
        "\"\"\"\n",
        "\n",
        "max_seq_length = 0\n",
        "\n",
        "for text in final_doc_train:\n",
        "  if len(text) > max_seq_length:\n",
        "    max_seq_length = len(text)\n",
        "\n",
        "print ('Max Sequence Lenght is {}'.format(max_seq_length))    "
      ],
      "execution_count": null,
      "outputs": [
        {
          "output_type": "stream",
          "text": [
            "Max Sequence Lenght is 22\n"
          ],
          "name": "stdout"
        }
      ]
    },
    {
      "cell_type": "code",
      "metadata": {
        "id": "lgxvIBsOfSTH",
        "colab_type": "code",
        "colab": {}
      },
      "source": [
        "\"\"\"\n",
        "Preparing Data for Modelling\n",
        "\"\"\"\n",
        "\n",
        "final_corpus = []\n",
        "for text in final_doc_train:\n",
        "  final_corpus.append(' '.join(text))\n",
        "\n",
        "max_features = 50000\n",
        "MAX_SEQUENCE_LENGTH = max_seq_length\n",
        "tokenizer = Tokenizer(num_words=max_fatures, \n",
        "                      split=' ')\n",
        "\n",
        "tokenizer.fit_on_texts(final_corpus)\n",
        "word_index = tokenizer.word_index\n",
        "\n",
        "X = tokenizer.texts_to_sequences(final_corpus)\n",
        "X = pad_sequences(X, maxlen=MAX_SEQUENCE_LENGTH)\n",
        "\n",
        "Y = labels\n",
        "  "
      ],
      "execution_count": null,
      "outputs": []
    },
    {
      "cell_type": "code",
      "metadata": {
        "id": "kUyqOilCwN--",
        "colab_type": "code",
        "colab": {
          "base_uri": "https://localhost:8080/",
          "height": 68
        },
        "outputId": "3f09ec7f-fa0f-4dd0-d50b-91db85c67587"
      },
      "source": [
        "\"\"\"\n",
        "Test Train and Validation Split\n",
        "\"\"\"\n",
        "\n",
        "X_interm, X_test, Y_interm, Y_test = train_test_split(X,Y, test_size = 0.20, random_state = 42)\n",
        "X_train, X_valid, Y_train, Y_valid = train_test_split(X_interm,Y_interm, test_size = 0.20, random_state = 42)\n",
        "print(X_train.shape,len(Y_train))\n",
        "print(X_test.shape,len(Y_test))\n",
        "print (X_valid.shape, len(Y_valid))"
      ],
      "execution_count": null,
      "outputs": [
        {
          "output_type": "stream",
          "text": [
            "(128000, 22) 128000\n",
            "(40000, 22) 40000\n",
            "(32000, 22) 32000\n"
          ],
          "name": "stdout"
        }
      ]
    },
    {
      "cell_type": "code",
      "metadata": {
        "id": "J4m_iyJpx7M4",
        "colab_type": "code",
        "colab": {}
      },
      "source": [
        "\"\"\"\n",
        "Model\n",
        "\"\"\"\n",
        "\n",
        "EMBEDDING_DIM = 100\n",
        "\n",
        "def model_1():\n",
        "  model = Sequential()\n",
        "  model.add(Embedding(max_features, EMBEDDING_DIM, input_length=X.shape[1]))\n",
        "  model.add(SpatialDropout1D(0.2))\n",
        "  model.add(LSTM(100, dropout=0.2, recurrent_dropout=0.2))\n",
        "  model.add(Dense(1, activation='sigmoid'))\n",
        "  print (model.summary())\n",
        "  return model"
      ],
      "execution_count": null,
      "outputs": []
    },
    {
      "cell_type": "code",
      "metadata": {
        "id": "ZZPa9XVxY6ao",
        "colab_type": "code",
        "colab": {}
      },
      "source": [
        "\"\"\"\n",
        "Model\n",
        "\"\"\"\n",
        "\n",
        "EMBEDDING_DIM = 200\n",
        "\n",
        "def model_2():\n",
        "  model = Sequential()\n",
        "  model.add(Embedding(max_features, EMBEDDING_DIM, input_length=X.shape[1]))\n",
        "  model.add(SpatialDropout1D(0.2))\n",
        "  model.add(LSTM(200, dropout=0.2, return_sequences=True))\n",
        "  model.add(LSTM(100, dropout=0.2, return_sequences=True))\n",
        "  model.add(LSTM(50, dropout=0.2, return_sequences=False))\n",
        "  model.add(Dense(1, activation='sigmoid'))\n",
        "  print (model.summary())\n",
        "  return model"
      ],
      "execution_count": null,
      "outputs": []
    },
    {
      "cell_type": "code",
      "metadata": {
        "id": "G7t_vHIzySXG",
        "colab_type": "code",
        "colab": {}
      },
      "source": [
        "\"\"\"\n",
        "Run Model\n",
        "\"\"\"\n",
        "\n",
        "model = model_1()\n",
        "model.compile(loss='binary_crossentropy', \n",
        "              optimizer='adam', \n",
        "              metrics=['accuracy'])\n",
        "\n",
        "learning_rate = 0.005\n",
        "epochs = 100\n",
        "batch_size = 128\n",
        "\n",
        "history = model.fit(X_train, \n",
        "                    Y_train, \n",
        "                    epochs=epochs, \n",
        "                    batch_size=batch_size,\n",
        "                    validation_data=(X_valid, Y_valid),\n",
        "                    callbacks=[EarlyStopping(monitor='val_loss', patience=5, min_delta=0.0001)])\n"
      ],
      "execution_count": null,
      "outputs": []
    },
    {
      "cell_type": "markdown",
      "metadata": {
        "id": "ysHTsmFQbyft",
        "colab_type": "text"
      },
      "source": [
        "Logistic Regression"
      ]
    },
    {
      "cell_type": "code",
      "metadata": {
        "id": "1-vpdz37b1VR",
        "colab_type": "code",
        "colab": {
          "base_uri": "https://localhost:8080/",
          "height": 68
        },
        "outputId": "31967185-8c43-429b-e1fa-7f642af01c79"
      },
      "source": [
        "\"\"\"\n",
        "Test Train and Validation Split\n",
        "\"\"\"\n",
        "\n",
        "X = []\n",
        "for text in final_doc_train:\n",
        "  X.append(' '.join(text))\n",
        "\n",
        "X_interm, X_test, Y_interm, Y_test = train_test_split(X,Y, test_size = 0.20, random_state = 42)\n",
        "X_train, X_valid, Y_train, Y_valid = train_test_split(X_interm,Y_interm, test_size = 0.20, random_state = 42)\n",
        "print(len(X_train),len(Y_train))\n",
        "print(len(X_test),len(Y_test))\n",
        "print (len(X_valid), len(Y_valid))"
      ],
      "execution_count": 47,
      "outputs": [
        {
          "output_type": "stream",
          "text": [
            "117097 117097\n",
            "36594 36594\n",
            "29275 29275\n"
          ],
          "name": "stdout"
        }
      ]
    },
    {
      "cell_type": "code",
      "metadata": {
        "id": "lTycle0ydb6T",
        "colab_type": "code",
        "colab": {}
      },
      "source": [
        "\"\"\"\n",
        "Vectorization\n",
        "\"\"\"\n",
        "\n",
        "vect = TfidfVectorizer(strip_accents='unicode', \n",
        "                      ngram_range=(1, 3), \n",
        "                      max_df=0.9, \n",
        "                      min_df=3, \n",
        "                      sublinear_tf=True)\n",
        "\n",
        "tfidf_train = vect.fit_transform(X_train)\n",
        "tfidf_valid = vect.transform(X_valid)\n",
        "tfidf_test = vect.transform(X_test)"
      ],
      "execution_count": 48,
      "outputs": []
    },
    {
      "cell_type": "code",
      "metadata": {
        "id": "UOr2FvTEpAwQ",
        "colab_type": "code",
        "colab": {}
      },
      "source": [
        "\"\"\"\n",
        "Logistic Regression\n",
        "\"\"\"\n",
        "\n",
        "model = LogisticRegression(C=1, dual=False)\n",
        "model.fit(tfidf_train, Y_train)\n",
        "\n",
        "preds = model.predict(tfidf_valid)\n",
        "accuracy_valid = (preds==Y_valid).mean()\n",
        "\n",
        "preds = model.predict(tfidf_test)\n",
        "accuracy_test = (preds==Y_test).mean()\n",
        "\n",
        "preds = model.predict(tfidf_train)\n",
        "accuracy_train = (preds==Y_train).mean()\n",
        "\n",
        "print ('Validation Accuarcy: {}'.format(accuracy_valid))\n",
        "print ('Training Accuarcy: {}'.format(accuracy_test))\n",
        "print ('Testing Accuarcy: {}'.format(accuracy_train))"
      ],
      "execution_count": null,
      "outputs": []
    },
    {
      "cell_type": "code",
      "metadata": {
        "id": "cp3aesNm5vty",
        "colab_type": "code",
        "colab": {}
      },
      "source": [
        "\"\"\"\n",
        "Final Prediction\n",
        "\"\"\"\n",
        "\n",
        "prediction_data = []\n",
        "for text in final_doc_pred:\n",
        "  prediction_data.append(' '.join(text))\n",
        "\n",
        "tfidf_predict = vect.transform(prediction_data)\n",
        "\n",
        "preds = model.predict(tfidf_predict)"
      ],
      "execution_count": 25,
      "outputs": []
    },
    {
      "cell_type": "code",
      "metadata": {
        "id": "IXHL6MFqbMmi",
        "colab_type": "code",
        "colab": {
          "base_uri": "https://localhost:8080/",
          "height": 204
        },
        "outputId": "9d693790-050a-4a9a-b39d-020608169103"
      },
      "source": [
        "\"\"\"\n",
        "Prediction Frame\n",
        "\"\"\"\n",
        "\n",
        "prediction_frame = pd.DataFrame()\n",
        "\n",
        "inbound_tweet_id = list(raw_dataset[raw_dataset['inbound'] == True]['tweet_id'])\n",
        "\n",
        "prediction_frame['tweet_id'] = inbound_tweet_id\n",
        "prediction_frame['tweet_text'] = inbound_data\n",
        "prediction_frame['processed_text'] = prediction_data\n",
        "prediction_frame['sentiment'] = preds\n",
        "\n",
        "prediction_frame.head()"
      ],
      "execution_count": 26,
      "outputs": [
        {
          "output_type": "execute_result",
          "data": {
            "text/html": [
              "<div>\n",
              "<style scoped>\n",
              "    .dataframe tbody tr th:only-of-type {\n",
              "        vertical-align: middle;\n",
              "    }\n",
              "\n",
              "    .dataframe tbody tr th {\n",
              "        vertical-align: top;\n",
              "    }\n",
              "\n",
              "    .dataframe thead th {\n",
              "        text-align: right;\n",
              "    }\n",
              "</style>\n",
              "<table border=\"1\" class=\"dataframe\">\n",
              "  <thead>\n",
              "    <tr style=\"text-align: right;\">\n",
              "      <th></th>\n",
              "      <th>tweet_id</th>\n",
              "      <th>tweet_text</th>\n",
              "      <th>processed_text</th>\n",
              "      <th>sentiment</th>\n",
              "    </tr>\n",
              "  </thead>\n",
              "  <tbody>\n",
              "    <tr>\n",
              "      <th>0</th>\n",
              "      <td>2</td>\n",
              "      <td>@sprintcare and how do you propose we do that</td>\n",
              "      <td>propose</td>\n",
              "      <td>4</td>\n",
              "    </tr>\n",
              "    <tr>\n",
              "      <th>1</th>\n",
              "      <td>3</td>\n",
              "      <td>@sprintcare I have sent several private messag...</td>\n",
              "      <td>send several private message respond usual</td>\n",
              "      <td>4</td>\n",
              "    </tr>\n",
              "    <tr>\n",
              "      <th>2</th>\n",
              "      <td>5</td>\n",
              "      <td>@sprintcare I did.</td>\n",
              "      <td></td>\n",
              "      <td>4</td>\n",
              "    </tr>\n",
              "    <tr>\n",
              "      <th>3</th>\n",
              "      <td>8</td>\n",
              "      <td>@sprintcare is the worst customer service</td>\n",
              "      <td>bad customer service</td>\n",
              "      <td>0</td>\n",
              "    </tr>\n",
              "    <tr>\n",
              "      <th>4</th>\n",
              "      <td>12</td>\n",
              "      <td>@sprintcare You gonna magically change your co...</td>\n",
              "      <td>magically change connectivity whole family</td>\n",
              "      <td>4</td>\n",
              "    </tr>\n",
              "  </tbody>\n",
              "</table>\n",
              "</div>"
            ],
            "text/plain": [
              "   tweet_id  ... sentiment\n",
              "0         2  ...         4\n",
              "1         3  ...         4\n",
              "2         5  ...         4\n",
              "3         8  ...         0\n",
              "4        12  ...         4\n",
              "\n",
              "[5 rows x 4 columns]"
            ]
          },
          "metadata": {
            "tags": []
          },
          "execution_count": 26
        }
      ]
    },
    {
      "cell_type": "code",
      "metadata": {
        "id": "xoo-CGtBgSRY",
        "colab_type": "code",
        "colab": {
          "base_uri": "https://localhost:8080/",
          "height": 217
        },
        "outputId": "c36623f4-6ca4-4f0f-90de-fe5f900c57cb"
      },
      "source": [
        "\"\"\"\n",
        "Filtering Data\n",
        "\"\"\"\n",
        "\n",
        "neg_sentiment = list(prediction_frame[prediction_frame['sentiment'] == 0]['processed_text'])\n",
        "pos_sentiment = list(prediction_frame[prediction_frame['sentiment'] == 4]['processed_text'])\n",
        "\n",
        "from wordcloud import WordCloud\n",
        "\n",
        "neg_string = ','.join(neg_sentiment)  \n",
        "\n",
        "wordcloud = WordCloud(background_color=\"black\", \n",
        "                      max_words=5000, \n",
        "                      contour_width=3, \n",
        "                      contour_color='steelblue')\n",
        "wordcloud.generate(neg_string)\n",
        "\n",
        "wordcloud.to_image()"
      ],
      "execution_count": 29,
      "outputs": [
        {
          "output_type": "execute_result",
          "data": {
            "image/png": "[encoded data removed]",
            "text/plain": [
              "<PIL.Image.Image image mode=RGB size=400x200 at 0x7FF230331278>"
            ]
          },
          "metadata": {
            "tags": []
          },
          "execution_count": 29
        }
      ]
    },
    {
      "cell_type": "code",
      "metadata": {
        "id": "tOeFZAdGhflV",
        "colab_type": "code",
        "colab": {
          "base_uri": "https://localhost:8080/",
          "height": 319
        },
        "outputId": "2281873e-2d7a-4c27-aadc-08d7b29055ac"
      },
      "source": [
        "\"\"\"\n",
        "Most Frequent Words\n",
        "\"\"\"\n",
        "\n",
        "from sklearn.feature_extraction.text import CountVectorizer\n",
        "import numpy as np\n",
        "import matplotlib.pyplot as plt\n",
        "\n",
        "def get_top_n_words(corpus, n=None):\n",
        "    \"\"\"\n",
        "    List the top n words in a vocabulary according to occurrence in a text corpus.\n",
        "    \"\"\"\n",
        "\n",
        "    vec = CountVectorizer().fit(corpus)\n",
        "    bag_of_words = vec.transform(corpus)\n",
        "    sum_words = bag_of_words.sum(axis=0) \n",
        "    words_freq = [(word, sum_words[0, idx]) for word, idx in     vec.vocabulary_.items()]\n",
        "    words_freq =sorted(words_freq, key = lambda x: x[1], reverse=True)\n",
        "    return words_freq[:n]\n",
        "\n",
        "freq_words = get_top_n_words(neg_sentiment, 10)\n",
        "\n",
        "word = []\n",
        "frequency = []\n",
        "for i in range(len(freq_words)):\n",
        "  word.append(freq_words[i][0])\n",
        "  frequency.append(freq_words[i][1])\n",
        "\n",
        "indices = np.arange(len(freq_words))\n",
        "plt.bar(indices, frequency, color='r')\n",
        "plt.xticks(indices, word, rotation='vertical')\n",
        "plt.tight_layout()\n",
        "plt.xlabel('Word', fontsize=18)\n",
        "plt.ylabel('No of Occurences', fontsize=16)\n",
        "plt.show()"
      ],
      "execution_count": 30,
      "outputs": [
        {
          "output_type": "display_data",
          "data": {
            "image/png": "[encoded data removed]",
            "text/plain": [
              "<Figure size 432x288 with 1 Axes>"
            ]
          },
          "metadata": {
            "tags": [],
            "needs_background": "light"
          }
        }
      ]
    }
  ]
}